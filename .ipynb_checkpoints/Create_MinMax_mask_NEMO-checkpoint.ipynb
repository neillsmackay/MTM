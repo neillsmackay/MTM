{
 "cells": [
  {
   "cell_type": "code",
   "execution_count": 2,
   "id": "9f80f46f-9611-4be7-a700-dcc615cf4d70",
   "metadata": {},
   "outputs": [],
   "source": [
    "import xarray as xr\n",
    "import numpy as np\n",
    "import matplotlib.pyplot as plt\n",
    "import math\n",
    "import matplotlib.path"
   ]
  },
  {
   "cell_type": "code",
   "execution_count": 3,
   "id": "e074a656-1437-4998-8846-95aaca2e8a5c",
   "metadata": {},
   "outputs": [],
   "source": [
    "# Define Patches for each of the 9 regions\n",
    "Basins = []\n",
    "Basins.append('Polar N. Atlantic')\n",
    "Basins.append('Subtropical N. Atlantic')\n",
    "Basins.append('Eq. Atlantic')\n",
    "Basins.append('S. Atlantic')\n",
    "Basins.append('Indian')\n",
    "Basins.append('S. Pacific')\n",
    "Basins.append('Eq. Pacific')\n",
    "Basins.append('N. Pacific')\n",
    "Basins.append('Southern Ocean')\n",
    "\n",
    "IndLonsPts=[25, 25, 40,100, 100, 110,145,145,25];\n",
    "IndLatsPts=[-90, 28, 30, 30, 0, -10,-10,-90,-90];\n",
    "\n",
    "# PacLonsPts=[145-0.1, 145-0.1, 110-0.1,100-0.1, 100-0.1, 260,260,300,300, 145];\n",
    "PacLonsPts=[145, 145, 110,100, 100, 260,260,300,300, 145];\n",
    "PacLatsPts=[-90, -10, -10, 0, 66, 66,20,0,-90,-90];\n",
    "\n",
    "transitionlats=[-40, -30, -15, -5, 5, 15, 35, 45];"
   ]
  },
  {
   "cell_type": "markdown",
   "id": "3576d624-0ebb-4e9a-bcd0-49f4ed19778b",
   "metadata": {},
   "source": [
    "# NEMO Mask"
   ]
  },
  {
   "cell_type": "code",
   "execution_count": 4,
   "id": "1de2ce88-6a8a-4b10-ad61-49f1a7a5639e",
   "metadata": {},
   "outputs": [
    {
     "ename": "OSError",
     "evalue": "no files to open",
     "output_type": "error",
     "traceback": [
      "\u001b[1;31m---------------------------------------------------------------------------\u001b[0m",
      "\u001b[1;31mOSError\u001b[0m                                   Traceback (most recent call last)",
      "\u001b[1;32m<ipython-input-4-ddcf8d31606a>\u001b[0m in \u001b[0;36m<module>\u001b[1;34m\u001b[0m\n\u001b[1;32m----> 1\u001b[1;33m \u001b[0mNEMO_grid_info\u001b[0m \u001b[1;33m=\u001b[0m \u001b[0mxr\u001b[0m\u001b[1;33m.\u001b[0m\u001b[0mopen_mfdataset\u001b[0m\u001b[1;33m(\u001b[0m\u001b[1;34m'/g/data/e14/txs156/Analysis/Min_Transform_Method/Mask_creation/mesh*'\u001b[0m\u001b[1;33m)\u001b[0m\u001b[1;33m\u001b[0m\u001b[1;33m\u001b[0m\u001b[0m\n\u001b[0m\u001b[0;32m      2\u001b[0m \u001b[0mdisplay\u001b[0m\u001b[1;33m(\u001b[0m\u001b[0mNEMO_grid_info\u001b[0m\u001b[1;33m)\u001b[0m\u001b[1;33m\u001b[0m\u001b[1;33m\u001b[0m\u001b[0m\n",
      "\u001b[1;32m~\\Anaconda3\\lib\\site-packages\\xarray\\backends\\api.py\u001b[0m in \u001b[0;36mopen_mfdataset\u001b[1;34m(paths, chunks, concat_dim, compat, preprocess, engine, data_vars, coords, combine, parallel, join, attrs_file, combine_attrs, **kwargs)\u001b[0m\n\u001b[0;32m    877\u001b[0m \u001b[1;33m\u001b[0m\u001b[0m\n\u001b[0;32m    878\u001b[0m     \u001b[1;32mif\u001b[0m \u001b[1;32mnot\u001b[0m \u001b[0mpaths\u001b[0m\u001b[1;33m:\u001b[0m\u001b[1;33m\u001b[0m\u001b[1;33m\u001b[0m\u001b[0m\n\u001b[1;32m--> 879\u001b[1;33m         \u001b[1;32mraise\u001b[0m \u001b[0mOSError\u001b[0m\u001b[1;33m(\u001b[0m\u001b[1;34m\"no files to open\"\u001b[0m\u001b[1;33m)\u001b[0m\u001b[1;33m\u001b[0m\u001b[1;33m\u001b[0m\u001b[0m\n\u001b[0m\u001b[0;32m    880\u001b[0m \u001b[1;33m\u001b[0m\u001b[0m\n\u001b[0;32m    881\u001b[0m     \u001b[1;32mif\u001b[0m \u001b[0mcombine\u001b[0m \u001b[1;33m==\u001b[0m \u001b[1;34m\"nested\"\u001b[0m\u001b[1;33m:\u001b[0m\u001b[1;33m\u001b[0m\u001b[1;33m\u001b[0m\u001b[0m\n",
      "\u001b[1;31mOSError\u001b[0m: no files to open"
     ]
    }
   ],
   "source": [
    "NEMO_grid_info = xr.open_mfdataset('/g/data/e14/txs156/Analysis/Min_Transform_Method/Mask_creation/mesh*')\n",
    "display(NEMO_grid_info)"
   ]
  },
  {
   "cell_type": "code",
   "execution_count": 4,
   "id": "0f660aa1-4511-4ed9-9ec7-4173f02ef79d",
   "metadata": {},
   "outputs": [],
   "source": [
    "NEMO_lat = NEMO_grid_info.nav_lat.values\n",
    "NEMO_lon = xr.where(NEMO_grid_info.nav_lon<0, 360+NEMO_grid_info.nav_lon, NEMO_grid_info.nav_lon).values\n",
    "NEMO_depth = NEMO_grid_info.nav_lev.values"
   ]
  },
  {
   "cell_type": "code",
   "execution_count": 6,
   "id": "7e062e01-88ba-4483-85ee-ab19466d5fef",
   "metadata": {},
   "outputs": [],
   "source": [
    "land_mask = NEMO_grid_info.mbathy/NEMO_grid_info.mbathy"
   ]
  },
  {
   "cell_type": "code",
   "execution_count": 7,
   "id": "f0871bc5-b087-4fb2-ba50-71d70e2a5647",
   "metadata": {},
   "outputs": [],
   "source": [
    "x_pixel_nos = PacLonsPts\n",
    "y_pixel_nos = PacLatsPts\n",
    "\n",
    "temp_list = []\n",
    "for a, b in zip(x_pixel_nos, y_pixel_nos):\n",
    "    temp_list.append([a, b])\n",
    "\n",
    "polygon = np.array(temp_list)\n",
    "left = np.min(polygon, axis=0)\n",
    "right = np.max(polygon, axis=0)\n",
    "x = np.arange(math.ceil(left[0]), math.floor(right[0])+1)\n",
    "y = np.arange(math.ceil(left[1]), math.floor(right[1])+1)\n",
    "xv, yv = NEMO_lon, NEMO_lat\n",
    "points = np.hstack((xv.reshape((-1,1)), yv.reshape((-1,1))))\n",
    "path = matplotlib.path.Path(polygon)\n",
    "mask_Pac = path.contains_points(points)\n",
    "mask_Pac.shape = xv.shape\n",
    "mask_Pac_bit = mask_Pac*np.ones_like(xv)\n",
    "\n",
    "x_pixel_nos = IndLonsPts\n",
    "y_pixel_nos = IndLatsPts\n",
    "\n",
    "temp_list = []\n",
    "for a, b in zip(x_pixel_nos, y_pixel_nos):\n",
    "    temp_list.append([a, b])\n",
    "\n",
    "polygon = np.array(temp_list)\n",
    "left = np.min(polygon, axis=0)\n",
    "right = np.max(polygon, axis=0)\n",
    "x = np.arange(math.ceil(left[0]), math.floor(right[0])+1)\n",
    "y = np.arange(math.ceil(left[1]), math.floor(right[1])+1)\n",
    "xv, yv = NEMO_lon, NEMO_lat\n",
    "points = np.hstack((xv.reshape((-1,1)), yv.reshape((-1,1))))\n",
    "path = matplotlib.path.Path(polygon)\n",
    "mask_Ind = path.contains_points(points)\n",
    "mask_Ind.shape = xv.shape\n",
    "mask_Ind_bit = mask_Ind*np.ones_like(xv)\n",
    "\n",
    "combi_Ind_Pac_mask = np.array(mask_Ind) | np.array(mask_Pac) \n",
    "mask_Atl = ~combi_Ind_Pac_mask\n",
    "mask_Atl_bit = mask_Atl*np.ones_like(xv)\n",
    "\n"
   ]
  },
  {
   "cell_type": "code",
   "execution_count": 8,
   "id": "f0675398-dd87-4c04-96b1-03df8d5f05ec",
   "metadata": {},
   "outputs": [],
   "source": [
    "mask_Polar_Atl = np.where((yv<=transitionlats[-1])&(yv>transitionlats[-2]),\\\n",
    "                          mask_Atl_bit*((yv-transitionlats[-2])/\\\n",
    "                                        (transitionlats[-1]-transitionlats[-2])), 0)\\\n",
    "                +np.where(yv>transitionlats[-1],mask_Atl_bit,0)\n",
    "mask_TN_Atl = np.where((yv<transitionlats[-1])&(yv>=transitionlats[-2]),\\\n",
    "                          mask_Atl_bit*((yv-transitionlats[-1])/\\\n",
    "                                        (transitionlats[-2]-transitionlats[-1])), 0)\\\n",
    "                +np.where((yv>transitionlats[-3])&(yv<transitionlats[-2]),mask_Atl_bit,0)\\\n",
    "              +np.where((yv<=transitionlats[-3])&(yv>transitionlats[-4]),\\\n",
    "                          mask_Atl_bit*((yv-transitionlats[-4])/\\\n",
    "                                        (transitionlats[-3]-transitionlats[-4])), 0)\n",
    "mask_Eq_Atl = np.where((yv<transitionlats[-3])&(yv>=transitionlats[-4]),\\\n",
    "                          mask_Atl_bit*((yv-transitionlats[-3])/\\\n",
    "                                        (transitionlats[-4]-transitionlats[-3])), 0)\\\n",
    "                +np.where((yv>transitionlats[-5])&(yv<transitionlats[-4]),mask_Atl_bit,0)\\\n",
    "              +np.where((yv<=transitionlats[-5])&(yv>transitionlats[-6]),\\\n",
    "                          mask_Atl_bit*((yv-transitionlats[-6])/\\\n",
    "                                        (transitionlats[-5]-transitionlats[-6])), 0)\n",
    "mask_SAtl = np.where((yv<transitionlats[-5])&(yv>=transitionlats[-6]),\\\n",
    "                          mask_Atl_bit*((yv-transitionlats[-5])/\\\n",
    "                                        (transitionlats[-6]-transitionlats[-5])), 0)\\\n",
    "                +np.where((yv>transitionlats[-7])&(yv<transitionlats[-6]),mask_Atl_bit,0)\\\n",
    "              +np.where((yv<=transitionlats[-7])&(yv>transitionlats[-8]),\\\n",
    "                          mask_Atl_bit*((yv-transitionlats[-8])/\\\n",
    "                                        (transitionlats[-7]-transitionlats[-8])), 0)\n",
    "mask_SO_Atl =  np.where((yv<transitionlats[-7])&(yv>=transitionlats[-8]),\\\n",
    "                          mask_Atl_bit*((yv-transitionlats[-7])/\\\n",
    "                                        (transitionlats[-8]-transitionlats[-7])), 0)\\\n",
    "                +np.where(yv<transitionlats[-8],mask_Atl_bit,0)"
   ]
  },
  {
   "cell_type": "code",
   "execution_count": 9,
   "id": "4cba2aff-f734-4c75-9c22-b4dcee5f2304",
   "metadata": {},
   "outputs": [],
   "source": [
    "mask_Polar_Pac = np.where((yv<=transitionlats[-1])&(yv>transitionlats[-2]),\\\n",
    "                          mask_Pac_bit*((yv-transitionlats[-2])/\\\n",
    "                                        (transitionlats[-1]-transitionlats[-2])), 0)\\\n",
    "                +np.where(yv>transitionlats[-1],mask_Pac_bit,0)\n",
    "mask_TN_Pac = np.where((yv<transitionlats[-1])&(yv>=transitionlats[-2]),\\\n",
    "                          mask_Pac_bit*((yv-transitionlats[-1])/\\\n",
    "                                        (transitionlats[-2]-transitionlats[-1])), 0)\\\n",
    "                +np.where((yv>transitionlats[-3])&(yv<transitionlats[-2]),mask_Pac_bit,0)\\\n",
    "              +np.where((yv<=transitionlats[-3])&(yv>transitionlats[-4]),\\\n",
    "                          mask_Pac_bit*((yv-transitionlats[-4])/\\\n",
    "                                        (transitionlats[-3]-transitionlats[-4])), 0)\n",
    "mask_NPac = mask_Polar_Pac+mask_TN_Pac\n",
    "\n",
    "mask_Eq_Pac = np.where((yv<transitionlats[-3])&(yv>=transitionlats[-4]),\\\n",
    "                          mask_Pac_bit*((yv-transitionlats[-3])/\\\n",
    "                                        (transitionlats[-4]-transitionlats[-3])), 0)\\\n",
    "                +np.where((yv>transitionlats[-5])&(yv<transitionlats[-4]),mask_Pac_bit,0)\\\n",
    "              +np.where((yv<=transitionlats[-5])&(yv>transitionlats[-6]),\\\n",
    "                          mask_Pac_bit*((yv-transitionlats[-6])/\\\n",
    "                                        (transitionlats[-5]-transitionlats[-6])), 0)\n",
    "mask_SPac = np.where((yv<transitionlats[-5])&(yv>=transitionlats[-6]),\\\n",
    "                          mask_Pac_bit*((yv-transitionlats[-5])/\\\n",
    "                                        (transitionlats[-6]-transitionlats[-5])), 0)\\\n",
    "                +np.where((yv>transitionlats[-7])&(yv<transitionlats[-6]),mask_Pac_bit,0)\\\n",
    "              +np.where((yv<=transitionlats[-7])&(yv>transitionlats[-8]),\\\n",
    "                          mask_Pac_bit*((yv-transitionlats[-8])/\\\n",
    "                                        (transitionlats[-7]-transitionlats[-8])), 0)\n",
    "mask_SO_Pac =  np.where((yv<transitionlats[-7])&(yv>=transitionlats[-8]),\\\n",
    "                          mask_Pac_bit*((yv-transitionlats[-7])/\\\n",
    "                                        (transitionlats[-8]-transitionlats[-7])), 0)\\\n",
    "                +np.where(yv<transitionlats[-8],mask_Pac_bit,0)"
   ]
  },
  {
   "cell_type": "code",
   "execution_count": 10,
   "id": "202cc079-7817-48ba-b3f3-962aba3987b3",
   "metadata": {},
   "outputs": [],
   "source": [
    "mask_Polar_Ind = np.where((yv<=transitionlats[-1])&(yv>transitionlats[-2]),\\\n",
    "                          mask_Ind_bit*((yv-transitionlats[-2])/\\\n",
    "                                        (transitionlats[-1]-transitionlats[-2])), 0)\\\n",
    "                +np.where(yv>transitionlats[-1],mask_Ind_bit,0)\n",
    "mask_TN_Ind = np.where((yv<transitionlats[-1])&(yv>=transitionlats[-2]),\\\n",
    "                          mask_Ind_bit*((yv-transitionlats[-1])/\\\n",
    "                                        (transitionlats[-2]-transitionlats[-1])), 0)\\\n",
    "                +np.where((yv>transitionlats[-3])&(yv<transitionlats[-2]),mask_Ind_bit,0)\\\n",
    "              +np.where((yv<=transitionlats[-3])&(yv>transitionlats[-4]),\\\n",
    "                          mask_Ind_bit*((yv-transitionlats[-4])/\\\n",
    "                                        (transitionlats[-3]-transitionlats[-4])), 0)\n",
    "mask_Eq_Ind = np.where((yv<transitionlats[-3])&(yv>=transitionlats[-4]),\\\n",
    "                          mask_Ind_bit*((yv-transitionlats[-3])/\\\n",
    "                                        (transitionlats[-4]-transitionlats[-3])), 0)\\\n",
    "                +np.where((yv>transitionlats[-5])&(yv<transitionlats[-4]),mask_Ind_bit,0)\\\n",
    "              +np.where((yv<=transitionlats[-5])&(yv>transitionlats[-6]),\\\n",
    "                          mask_Ind_bit*((yv-transitionlats[-6])/\\\n",
    "                                        (transitionlats[-5]-transitionlats[-6])), 0)\n",
    "mask_SInd = np.where((yv<transitionlats[-5])&(yv>=transitionlats[-6]),\\\n",
    "                          mask_Ind_bit*((yv-transitionlats[-5])/\\\n",
    "                                        (transitionlats[-6]-transitionlats[-5])), 0)\\\n",
    "                +np.where((yv>transitionlats[-7])&(yv<transitionlats[-6]),mask_Ind_bit,0)\\\n",
    "              +np.where((yv<=transitionlats[-7])&(yv>transitionlats[-8]),\\\n",
    "                          mask_Ind_bit*((yv-transitionlats[-8])/\\\n",
    "                                        (transitionlats[-7]-transitionlats[-8])), 0)\n",
    "\n",
    "mask_Ind = mask_Polar_Ind+mask_TN_Ind+mask_Eq_Ind+mask_SInd\n",
    "\n",
    "mask_SO_Ind =  np.where((yv<transitionlats[-7])&(yv>=transitionlats[-8]),\\\n",
    "                          mask_Ind_bit*((yv-transitionlats[-7])/\\\n",
    "                                        (transitionlats[-8]-transitionlats[-7])), 0)\\\n",
    "                +np.where(yv<transitionlats[-8],mask_Ind_bit,0)\n",
    "\n",
    "mask_SO = mask_SO_Ind+mask_SO_Pac+mask_SO_Atl"
   ]
  },
  {
   "cell_type": "code",
   "execution_count": 11,
   "id": "dce2f320-d340-4b63-9688-a517f56a3e5b",
   "metadata": {},
   "outputs": [],
   "source": [
    "mask_Polar_Atl_3D = np.repeat(mask_Polar_Atl[np.newaxis,:,:], NEMO_depth.size, axis=0)\n",
    "mask_TN_Atl_3D = np.repeat(mask_TN_Atl[np.newaxis,:,:], NEMO_depth.size, axis=0)\n",
    "mask_Eq_Atl_3D = np.repeat(mask_Eq_Atl[np.newaxis,:,:], NEMO_depth.size, axis=0)\n",
    "mask_SAtl_3D = np.repeat(mask_SAtl[np.newaxis,:,:], NEMO_depth.size, axis=0)\n",
    "mask_Ind_3D = np.repeat(mask_Ind[np.newaxis,:,:], NEMO_depth.size, axis=0)\n",
    "mask_NPac_3D = np.repeat(mask_NPac[np.newaxis,:,:], NEMO_depth.size, axis=0)\n",
    "mask_Eq_Pac_3D = np.repeat(mask_Eq_Pac[np.newaxis,:,:], NEMO_depth.size, axis=0)\n",
    "mask_SPac_3D = np.repeat(mask_SPac[np.newaxis,:,:], NEMO_depth.size, axis=0)\n",
    "mask_SO_3D = np.repeat(mask_SO[np.newaxis,:,:], NEMO_depth.size, axis=0)"
   ]
  },
  {
   "cell_type": "code",
   "execution_count": 12,
   "id": "d4e47e98-322e-40f7-86b9-fce2566dc43e",
   "metadata": {},
   "outputs": [],
   "source": [
    "mask_NEMO = np.zeros((np.array(Basins).size,mask_Polar_Atl_3D.shape[0],mask_Polar_Atl_3D.shape[1],mask_Polar_Atl_3D.shape[2]))\n",
    "mask_NEMO[0,:,:,:] = mask_Polar_Atl_3D\n",
    "mask_NEMO[1,:,:,:] = mask_TN_Atl_3D\n",
    "mask_NEMO[2,:,:,:] = mask_Eq_Atl_3D\n",
    "mask_NEMO[3,:,:,:] = mask_SAtl_3D\n",
    "mask_NEMO[4,:,:,:] = mask_Ind_3D\n",
    "mask_NEMO[5,:,:,:] = mask_SPac_3D\n",
    "mask_NEMO[6,:,:,:] = mask_Eq_Pac_3D\n",
    "mask_NEMO[7,:,:,:] = mask_NPac_3D\n",
    "mask_NEMO[8,:,:,:] = mask_SO_3D"
   ]
  },
  {
   "cell_type": "code",
   "execution_count": 13,
   "id": "d5f9e85d-35e3-4b57-b899-a7ceae136488",
   "metadata": {},
   "outputs": [],
   "source": [
    "mask_NEMO_da = xr.DataArray(data=mask_NEMO,\n",
    "     dims=[\"Basins\", \"lev\", \"i\", \"j\"],\n",
    "     coords=dict(\n",
    "         Basins = Basins,\n",
    "         i = np.arange(0,NEMO_lon.shape[0]),\n",
    "         j = np.arange(0,NEMO_lat.shape[1]),\n",
    "         lon=([\"i\", \"j\"], NEMO_lon),\n",
    "         lat=([\"i\", \"j\"], NEMO_lat),\n",
    "         lev=NEMO_depth),\n",
    "     attrs=dict(\n",
    "         description=\"Basin Masks\"))\n",
    "\n",
    "ds_NEMO = xr.Dataset()\n",
    "ds_NEMO['mask_NEMO'] = mask_NEMO_da\n"
   ]
  },
  {
   "cell_type": "code",
   "execution_count": 15,
   "id": "a7a240db-d136-4297-9d04-8192cae0647d",
   "metadata": {},
   "outputs": [],
   "source": [
    "ds_NEMO.to_netcdf('/g/data/e14/txs156/Analysis/Min_Transform_Method/Mask_creation/mask_NEMO.nc')"
   ]
  },
  {
   "cell_type": "code",
   "execution_count": null,
   "id": "42c2b4a9-6083-45ce-8da7-e8d621e04ddd",
   "metadata": {},
   "outputs": [],
   "source": []
  },
  {
   "cell_type": "code",
   "execution_count": null,
   "id": "99f86a5d-e894-4bf0-bdec-de740d1c7ff5",
   "metadata": {},
   "outputs": [],
   "source": []
  }
 ],
 "metadata": {
  "kernelspec": {
   "display_name": "Python 3",
   "language": "python",
   "name": "python3"
  },
  "language_info": {
   "codemirror_mode": {
    "name": "ipython",
    "version": 3
   },
   "file_extension": ".py",
   "mimetype": "text/x-python",
   "name": "python",
   "nbconvert_exporter": "python",
   "pygments_lexer": "ipython3",
   "version": "3.8.8"
  }
 },
 "nbformat": 4,
 "nbformat_minor": 5
}
