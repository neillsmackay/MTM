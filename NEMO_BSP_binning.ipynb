{
 "cells": [
  {
   "cell_type": "code",
   "execution_count": 1,
   "id": "7fa4cd6a-5e4f-485e-91a9-7a1318f2db8f",
   "metadata": {},
   "outputs": [],
   "source": [
    "# Load Relevant Modules\n",
    "import numpy as np\n",
    "import matplotlib.pyplot as plt\n",
    "import matplotlib.patches as patches\n",
    "import itertools\n",
    "import xarray as xr\n",
    "import sys\n",
    "from tqdm.notebook import tqdm"
   ]
  },
  {
   "cell_type": "code",
   "execution_count": 2,
   "id": "80379f1f-3436-4e1d-bd7d-09653bf9b2b4",
   "metadata": {},
   "outputs": [],
   "source": [
    "# Define the BSP function that is called and recursively subdivides a 2D distribution\n",
    "\n",
    "def binary_space_partition(x, y, z, v, c, a, depth: int, axis: int = 0):\n",
    "    \"\"\"\n",
    "    Create a binary space partition tree from a set of point coordinates\n",
    "    \n",
    "    >>> binary_space_partition(numpy.array([1,2,4,2]),\n",
    "    ...                        numpy.array([3,4,8,1]), \n",
    "    ...                        depth=1)\n",
    "    ([1, 4, 1, 8], (([1, 2, 3, 4], None), ([2, 4, 1, 8], None)))\n",
    "    \n",
    "    Args:\n",
    "        x: x coordinates\n",
    "        y: y coordinates\n",
    "        v: distribution data\n",
    "        z, c, a: variables of interest to save in BSP tree\n",
    "        depth: maximum tree depth\n",
    "        axis: initial branch axis\n",
    "        \n",
    "    Returns:\n",
    "        A tuple (bounds, (left, right)) where bounds is the bounding\n",
    "        box of the contained points and left and right are the results\n",
    "        of calling binary_space_partition on the left and right tree\n",
    "        branches. Once the tree has reached 'depth' levels then the\n",
    "        second element will be None\n",
    "    \"\"\"\n",
    "    \n",
    "    bounds = (x.min(), x.max(), y.min(), y.max())\n",
    "    \n",
    "    # Calculate diagnostic for this partition\n",
    "    vsum = v.sum()\n",
    "    csum = c.sum()\n",
    "    asum = a.sum()\n",
    "    ymean = (y*c).sum()/csum\n",
    "    xmean = (x*c).sum()/csum\n",
    "    zmean = (z*c).sum()/csum\n",
    "    \n",
    "    if depth == 0 or x.size <= 2:\n",
    "        # Add diagnostic to  the output\n",
    "        return [bounds, xmean, ymean, zmean, vsum, csum,  asum, None]\n",
    "    \n",
    "    # Sort coordinates along axis\n",
    "    if axis == 0:\n",
    "        idx = np.argsort(x)\n",
    "    elif axis == 1:\n",
    "        idx = np.argsort(y)\n",
    "    else:\n",
    "        raise ArgumentError\n",
    "    \n",
    "    # Indexes for left and right branches\n",
    "    # Use volume on current branch to find the split at the centre point in volume\n",
    "    vtot_half = v.sum()/2.\n",
    "    v1 = v[idx].cumsum()\n",
    "    \n",
    "    idx_l = idx[v1<vtot_half]\n",
    "    idx_r = idx[v1>vtot_half]\n",
    "    \n",
    "    # Recurse into the branches\n",
    "    left = binary_space_partition(x[idx_l], y[idx_l], z[idx_l], v[idx_l], c[idx_l], a[idx_l], depth-1, (axis+1)%2)  \n",
    "    right = binary_space_partition(x[idx_r], y[idx_r], z[idx_r], v[idx_r], c[idx_r], a[idx_r], depth-1, (axis+1)%2)\n",
    "\n",
    "    return [left, right]"
   ]
  },
  {
   "cell_type": "code",
   "execution_count": 3,
   "id": "e17c9e4b-3b1d-4566-a383-0dac25653c23",
   "metadata": {},
   "outputs": [],
   "source": [
    "chunks = {'time': 1}\n",
    "RR_NEMO = 106/16\n",
    "\n",
    "NEMO_historical_tracers = xr.open_mfdataset('C:/users/nm455/OneDrive - University of Exeter/UNICORNS/MTM/*carbon*.nc',decode_times=True, chunks = chunks,combine='nested',concat_dim='time')\n",
    "NEMO_historical_TS = xr.open_mfdataset('C:/users/nm455/OneDrive - University of Exeter/UNICORNS/MTM/*phys*.nc',decode_times=True, chunks = chunks,combine='nested',concat_dim='time')\n",
    "\n",
    "NEMO_mask = xr.open_mfdataset('C:/users/nm455/OneDrive - University of Exeter/UNICORNS/MTM/mask_NEMO.nc',decode_times=True, chunks = chunks)\n",
    "NEMO_mask_renamed = NEMO_mask.rename_dims(dict(j='x', i='y', lev='deptht'))\\\n",
    ".rename(dict(lev='deptht', lon='nav_lon', lat='nav_lat'))"
   ]
  },
  {
   "cell_type": "code",
   "execution_count": 4,
   "id": "bc235abc-e5be-43f2-90fe-ce6438d9a822",
   "metadata": {},
   "outputs": [],
   "source": [
    "NEMO_C_star = NEMO_historical_tracers.Cstar\n",
    "NEMO_land_mask = (NEMO_C_star/NEMO_C_star)\n",
    "NEMO_area = NEMO_historical_tracers.cell_area*NEMO_land_mask.isel(deptht=0)\n",
    "NEMO_depth = NEMO_historical_tracers.deptht.values\n",
    "dArea_3D = NEMO_area.expand_dims({'deptht':NEMO_depth.size},axis=1).assign_coords(deptht=NEMO_depth).values\n",
    "dSArea_3D = NEMO_area.expand_dims({'deptht':NEMO_depth.size},axis=1).assign_coords(deptht=NEMO_depth)\n",
    "NEMO_volume = dArea_3D*NEMO_historical_TS.e3t\n",
    "# dSArea_3D[:,1:,:,:] = 0\n"
   ]
  },
  {
   "cell_type": "code",
   "execution_count": 5,
   "id": "e30a976d-538e-4e8f-af3e-e4a0154fbb50",
   "metadata": {},
   "outputs": [],
   "source": [
    "NEMO_mask_4D = NEMO_mask_renamed.expand_dims({'time':NEMO_historical_tracers.time.size},axis=1)\\\n",
    ".assign_coords(time=NEMO_historical_tracers.time)\n",
    "Basins = NEMO_mask.Basins.values"
   ]
  },
  {
   "cell_type": "code",
   "execution_count": 6,
   "id": "19e540af-9352-4242-9f76-292cf5905fc8",
   "metadata": {},
   "outputs": [],
   "source": [
    "## Flatten Volume, Salinity and Temp (becomes 6000x5400000 array) \n",
    "volcello_flattened = (NEMO_volume.stack(z=(\"y\", \"x\", \"deptht\")))\n",
    "bigthetao_flattened = (NEMO_historical_TS.votemper.stack(z=(\"y\", \"x\", \"deptht\")))\n",
    "so_flattened = (NEMO_historical_TS.vosaline.stack(z=(\"y\", \"x\", \"deptht\")))\n",
    "C_star_flattened = (NEMO_C_star.stack(z=(\"y\", \"x\", \"deptht\")))\n",
    "areacello_flattened = (dSArea_3D.stack(z=(\"y\", \"x\", \"deptht\")))\n",
    "mask_flattened = (NEMO_mask_4D.mask_NEMO.stack(z=(\"y\", \"x\", \"deptht\")))\n",
    "\n",
    "BA = mask_flattened\n",
    "V = volcello_flattened\n",
    "S = ((so_flattened))\n",
    "T = ((bigthetao_flattened))\n",
    "C_star = C_star_flattened\n",
    "A = (areacello_flattened)\n",
    "N = A.shape[1] \n",
    "\n",
    "depth=7\n",
    "window = 2\n",
    "# print(sys.argv[1])\n",
    "ti = 0 #int(sys.argv[1])\n",
    "\n",
    "weights = [31,28.25,31,30,31,30,31,31,30,31,30,31]\n",
    "months = np.nancumsum(weights)/np.sum(weights)\n",
    "months_repeating = np.tile(months, int(window/12))"
   ]
  },
  {
   "cell_type": "code",
   "execution_count": 7,
   "id": "311f15e4-91f4-4685-bdcf-9297ab58aa98",
   "metadata": {},
   "outputs": [
    {
     "data": {
      "application/vnd.jupyter.widget-view+json": {
       "model_id": "d1f342baa3de45c6b1faa4ab39f0f117",
       "version_major": 2,
       "version_minor": 0
      },
      "text/plain": [
       "  0%|          | 0/2 [00:00<?, ?it/s]"
      ]
     },
     "metadata": {},
     "output_type": "display_data"
    },
    {
     "data": {
      "application/vnd.jupyter.widget-view+json": {
       "model_id": "a450b97690394514acfe7d91dc8ba0ae",
       "version_major": 2,
       "version_minor": 0
      },
      "text/plain": [
       "  0%|          | 0/9 [00:00<?, ?it/s]"
      ]
     },
     "metadata": {},
     "output_type": "display_data"
    },
    {
     "name": "stderr",
     "output_type": "stream",
     "text": [
      "<ipython-input-2-1603c5591416>:33: RuntimeWarning: invalid value encountered in double_scalars\n",
      "  ymean = (y*c).sum()/csum\n",
      "<ipython-input-2-1603c5591416>:34: RuntimeWarning: invalid value encountered in double_scalars\n",
      "  xmean = (x*c).sum()/csum\n",
      "<ipython-input-2-1603c5591416>:35: RuntimeWarning: invalid value encountered in double_scalars\n",
      "  zmean = (z*c).sum()/csum\n"
     ]
    },
    {
     "data": {
      "application/vnd.jupyter.widget-view+json": {
       "model_id": "5bd2b7c7e46f4749848936722b908c08",
       "version_major": 2,
       "version_minor": 0
      },
      "text/plain": [
       "  0%|          | 0/9 [00:00<?, ?it/s]"
      ]
     },
     "metadata": {},
     "output_type": "display_data"
    }
   ],
   "source": [
    "# %%time\n",
    "partitions_hist = np.zeros((NEMO_mask_renamed.Basins.size, window,2**depth, 4))\n",
    "T_mean_hist = np.zeros((NEMO_mask_renamed.Basins.size, window,2**depth))\n",
    "S_mean_hist = np.zeros((NEMO_mask_renamed.Basins.size, window,2**depth))\n",
    "C_star_mean_hist = np.zeros((NEMO_mask_renamed.Basins.size, window,2**depth))\n",
    "V_sum_hist = np.zeros((NEMO_mask_renamed.Basins.size, window,2**depth))\n",
    "A_sum_hist = np.zeros((NEMO_mask_renamed.Basins.size, window,2**depth))\n",
    "A_sum_hist_reg = np.zeros((NEMO_mask_renamed.Basins.size, window,2**depth))\n",
    "time_array = np.zeros(window)\n",
    "for i in tqdm(range(ti*window, (ti+1)*window)):\n",
    "    time_array[int(i-ti*window)] = i\n",
    "    for j in tqdm(range(Basins.size)):\n",
    "        # Get a single timestep as numpy, not dask\n",
    "        x = S[i,:].values\n",
    "        y = T[i,:].values\n",
    "        z = C_star[i,:].values\n",
    "        v = A[i,:].values\n",
    "        c = V[0,:].values*BA[j,i,:].values\n",
    "        a = A[i,:].values*BA[j,i,:].values\n",
    "        \n",
    "        # Clean out NAN values\n",
    "        idx = np.isfinite(x)\n",
    "        x = x[idx]\n",
    "        y = y[idx]\n",
    "        z = z[idx]\n",
    "        v = v[idx]\n",
    "        c = c[idx]\n",
    "        a = a[idx]\n",
    "\n",
    "        idx = np.isfinite(y)\n",
    "        x = x[idx]\n",
    "        y = y[idx]\n",
    "        z = z[idx]\n",
    "        v = v[idx]\n",
    "        c = c[idx]\n",
    "        a = a[idx]\n",
    "        \n",
    "        idx = np.isfinite(z)\n",
    "        x = x[idx]\n",
    "        y = y[idx]\n",
    "        z = z[idx]\n",
    "        v = v[idx]\n",
    "        c = c[idx]\n",
    "        a = a[idx]\n",
    "\n",
    "        idx = np.isfinite(v)\n",
    "        x = x[idx]\n",
    "        y = y[idx]\n",
    "        z = z[idx]\n",
    "        v = v[idx]\n",
    "        c = c[idx]\n",
    "        a = a[idx]\n",
    "\n",
    "        idx = np.isfinite(c)\n",
    "        x = x[idx]\n",
    "        y = y[idx]\n",
    "        z = z[idx]\n",
    "        v = v[idx]\n",
    "        c = c[idx]\n",
    "        a = a[idx]\n",
    "\n",
    "        idx = np.isfinite(a)\n",
    "        x = x[idx]\n",
    "        y = y[idx]\n",
    "        z = z[idx]\n",
    "        v = v[idx]\n",
    "        c = c[idx]\n",
    "        a = a[idx]\n",
    "\n",
    "        b_results = binary_space_partition(x,y,z,v,c,a, depth=depth, axis=1)\n",
    "\n",
    "        bsp_flat = list(itertools.chain(*b_results))\n",
    "        while (len(bsp_flat) <= 2**depth):\n",
    "            bsp_flat = list(itertools.chain(*bsp_flat))\n",
    "        partitions_hist[j,int(i-ti*window),:,:] = np.array(bsp_flat[::8])\n",
    "        T_mean_hist[j,int(i-ti*window),:] = np.array(bsp_flat[1::8])\n",
    "        S_mean_hist[j,int(i-ti*window),:] = np.array(bsp_flat[2::8])\n",
    "        C_star_mean_hist[j,int(i-ti*window),:] = np.array(bsp_flat[3::8])\n",
    "        A_sum_hist[j,int(i-ti*window),:] = np.array(bsp_flat[4::8])\n",
    "        V_sum_hist[j,int(i-ti*window),:] = np.array(bsp_flat[5::8])\n",
    "        A_sum_hist_reg[j,int(i-ti*window),:] = np.array(bsp_flat[6::8])"
   ]
  },
  {
   "cell_type": "code",
   "execution_count": 12,
   "id": "97b46728-8968-4a19-b678-591341e8e998",
   "metadata": {},
   "outputs": [],
   "source": [
    "da_partitions_hist = xr.DataArray(data = partitions_hist, dims = [\"Basin\",\"Time\", \"Depth\", \"Coords\"], \n",
    "                           coords=dict(Basin = Basins, Time = time_array, Depth= np.arange(2**depth), Coords = np.arange(4)),\n",
    "                        attrs=dict(description=\"[x0,y0,xmax,ymax] bounds of BSP framework\", variable_id=\"Partitions\"))\n",
    "da_S_mean_hist = xr.DataArray(data = S_mean_hist, dims = [\"Basin\", \"Time\", \"Depth\"], \n",
    "                           coords=dict(Basin = Basins, Time = time_array, Depth=np.arange(2**depth)),\n",
    "                        attrs=dict(description=\"Mean Salinity\", units=\"g/kg\", variable_id=\"S\"))\n",
    "da_T_mean_hist = xr.DataArray(data = T_mean_hist, dims = [\"Basin\", \"Time\",\"Depth\"], \n",
    "                           coords=dict(Basin = Basins, Time = time_array, Depth=np.arange(2**depth)),\n",
    "                        attrs=dict(description=\"Mean Temperature\", units=\"K\", variable_id=\"T\"))\n",
    "da_C_star_mean_hist = xr.DataArray(data = C_star_mean_hist, dims = [\"Basin\", \"Time\",\"Depth\"], \n",
    "                           coords=dict(Basin = Basins, Time = time_array, Depth=np.arange(2**depth)),\n",
    "                        attrs=dict(description=\"Mean C_star\", units=\"mmol-C/m3\", variable_id=\"C_star\"))\n",
    "\n",
    "da_A_sum_hist = xr.DataArray(data = A_sum_hist, dims = [\"Basin\", \"Time\",\"Depth\"], \n",
    "                           coords=dict(Basin = Basins, Time = time_array, Depth=np.arange(2**depth)),\n",
    "                        attrs=dict(description=\"Total Area\", units=\"m^2\", variable_id=\"EN4 A_sum\"))\n",
    "da_V_sum_hist = xr.DataArray(data = V_sum_hist, dims = [\"Basin\", \"Time\",\"Depth\"], \n",
    "                           coords=dict(Basin = Basins, Time = time_array, Depth=np.arange(2**depth)),\n",
    "                        attrs=dict(description=\"Total Volume\", units=\"m^3\", variable_id=\"Basin V_sum\"))\n",
    "da_A_sum_hist_reg = xr.DataArray(data = A_sum_hist_reg, dims = [\"Basin\", \"Time\",\"Depth\"],\n",
    "                           coords=dict(Basin = Basins, Time = time_array, Depth=np.arange(2**depth)),\n",
    "                        attrs=dict(description=\"Total Area\", units=\"m^2\", variable_id=\"Basin A_sum\"))\n",
    "\n",
    "ds_BSP = xr.Dataset()\n",
    "ds_BSP['Partitions_hist'] = da_partitions_hist\n",
    "ds_BSP['T_mean_hist'] = da_T_mean_hist\n",
    "ds_BSP['S_mean_hist'] = da_S_mean_hist\n",
    "ds_BSP['C_star_mean_hist'] = da_C_star_mean_hist\n",
    "ds_BSP['V_sum_hist'] = da_V_sum_hist\n",
    "ds_BSP['A_sum_hist'] = da_A_sum_hist_reg\n",
    "\n",
    "ds_BSP.to_netcdf('C:/users/nm455/OneDrive - University of Exeter/UNICORNS/MTM/BSP_NEMO_TS_hist_area_%i_%i.nc' %(ti*window, (ti+1)*window-1))"
   ]
  },
  {
   "cell_type": "code",
   "execution_count": 9,
   "id": "03562460-7645-437d-9151-1a05f2e94cad",
   "metadata": {},
   "outputs": [
    {
     "name": "stdout",
     "output_type": "stream",
     "text": [
      "4.859335108925239e+18\n",
      "1.3406299615078497e+18\n",
      "-------\n",
      "4.864515298908427e+18\n",
      "1.3406299615078497e+18\n"
     ]
    }
   ],
   "source": [
    "print(np.nansum((NEMO_volume*NEMO_historical_TS.votemper).isel(time=0).values))\n",
    "print(da_V_sum_hist.isel(Time=0).values.sum())\n",
    "print('-------')\n",
    "print(np.nansum((NEMO_volume*NEMO_historical_TS.votemper).isel(time=1).values))\n",
    "print(da_V_sum_hist.isel(Time=1).values.sum())"
   ]
  },
  {
   "cell_type": "code",
   "execution_count": 10,
   "id": "600f48f8-5f0c-49a7-afc0-11dba03b7b41",
   "metadata": {},
   "outputs": [
    {
     "data": {
      "image/png": "[encoded data removed]",
      "text/plain": [
       "<Figure size 540x540 with 10 Axes>"
      ]
     },
     "metadata": {},
     "output_type": "display_data"
    }
   ],
   "source": [
    "fig, axs = plt.subplots(3,3, figsize=(15*0.5,15*0.5), facecolor='w', edgecolor='k')\n",
    "fig.subplots_adjust(hspace = .35, wspace=0.2)\n",
    "axs = axs.ravel() \n",
    "cax = fig.add_axes([0.925, 0.12, 0.02, 0.23])\n",
    "\n",
    "for i in range(Basins.size):\n",
    "    axs[i].scatter(da_T_mean_hist[i,1,:].values, da_S_mean_hist[i,1,:].values, 5,\\\n",
    "                da_C_star_mean_hist[i,1,:]-da_C_star_mean_hist[i,0,:], cmap=plt.cm.bwr, vmin=-50, vmax=50)\n",
    "    axs[i].set_title(Basins[i])\n",
    "    axs[i].set_xlim(32,37)\n",
    "    axs[i].set_ylim(-3,35)\n",
    "    \n",
    "m = plt.cm.ScalarMappable(cmap=plt.cm.bwr)\n",
    "m.set_clim(-50, 50)\n",
    "cbar = fig.colorbar(m, cax=cax, orientation='vertical')\n",
    "cbar.set_label('1980-2018 $\\Delta C^*$ [mmol-C/m$^3$]') \n",
    "# plt.savefig('/g/data/e14/txs156/Figures/BSP_C_star_CARBO_MM.png', dpi=300, bbox_inches='tight')\n",
    "plt.show()"
   ]
  },
  {
   "cell_type": "code",
   "execution_count": 11,
   "id": "01615c45-a240-429e-a65b-2f43d7788125",
   "metadata": {},
   "outputs": [
    {
     "name": "stdout",
     "output_type": "stream",
     "text": [
      "1.3406299615078497e+18\n",
      "3.2814324102683336e+16\n"
     ]
    },
    {
     "data": {
      "image/png": "[encoded data removed]",
      "text/plain": [
       "<Figure size 432x288 with 1 Axes>"
      ]
     },
     "metadata": {
      "needs_background": "light"
     },
     "output_type": "display_data"
    },
    {
     "name": "stdout",
     "output_type": "stream",
     "text": [
      "1.3406299615078497e+18\n",
      "0.0\n"
     ]
    },
    {
     "data": {
      "text/plain": [
       "(array([ 0.,  0.,  0.,  0.,  0.,  0.,  0.,  0.,  0.,  0.,  0.,  0.,  0.,\n",
       "         0.,  0.,  0.,  0.,  0.,  0.,  1.,  4., 15., 12., 11., 16.,  9.,\n",
       "         4.,  8.,  8., 14., 26.,  0.,  0.,  0.,  0.,  0.,  0.,  0.,  0.]),\n",
       " array([11.        , 11.17948718, 11.35897436, 11.53846154, 11.71794872,\n",
       "        11.8974359 , 12.07692308, 12.25641026, 12.43589744, 12.61538462,\n",
       "        12.79487179, 12.97435897, 13.15384615, 13.33333333, 13.51282051,\n",
       "        13.69230769, 13.87179487, 14.05128205, 14.23076923, 14.41025641,\n",
       "        14.58974359, 14.76923077, 14.94871795, 15.12820513, 15.30769231,\n",
       "        15.48717949, 15.66666667, 15.84615385, 16.02564103, 16.20512821,\n",
       "        16.38461538, 16.56410256, 16.74358974, 16.92307692, 17.1025641 ,\n",
       "        17.28205128, 17.46153846, 17.64102564, 17.82051282, 18.        ]),\n",
       " <BarContainer object of 39 artists>)"
      ]
     },
     "execution_count": 11,
     "metadata": {},
     "output_type": "execute_result"
    },
    {
     "data": {
      "image/png": "[encoded data removed]",
      "text/plain": [
       "<Figure size 432x288 with 1 Axes>"
      ]
     },
     "metadata": {
      "needs_background": "light"
     },
     "output_type": "display_data"
    }
   ],
   "source": [
    "Vearly = da_V_sum_hist.isel(Time=0)\n",
    "Vlate = da_V_sum_hist.isel(Time=-1)\n",
    "\n",
    "\n",
    "print(Vearly.sum().values)\n",
    "print(np.nanmax(np.nansum(Vearly.values,axis=0)))\n",
    "plt.hist(1/(Vearly.sum().values/(np.nansum(Vearly.values,axis=0))))\n",
    "plt.show()\n",
    "\n",
    "print(Vlate.sum().values)\n",
    "print(Vearly.sum().values-Vlate.sum().values)\n",
    "plt.hist(np.log10(np.nansum(Vearly.values,axis=0)), bins=np.linspace(11,18,40))"
   ]
  },
  {
   "cell_type": "code",
   "execution_count": null,
   "id": "541fce58-45ec-4642-979a-b60b09292ee0",
   "metadata": {},
   "outputs": [],
   "source": []
  }
 ],
 "metadata": {
  "kernelspec": {
   "display_name": "Python 3",
   "language": "python",
   "name": "python3"
  },
  "language_info": {
   "codemirror_mode": {
    "name": "ipython",
    "version": 3
   },
   "file_extension": ".py",
   "mimetype": "text/x-python",
   "name": "python",
   "nbconvert_exporter": "python",
   "pygments_lexer": "ipython3",
   "version": "3.8.8"
  }
 },
 "nbformat": 4,
 "nbformat_minor": 5
}
